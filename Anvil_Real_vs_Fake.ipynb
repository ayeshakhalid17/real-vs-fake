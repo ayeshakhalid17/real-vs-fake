{
  "nbformat": 4,
  "nbformat_minor": 0,
  "metadata": {
    "colab": {
      "name": "Anvil Real vs Fake.ipynb",
      "provenance": [],
      "collapsed_sections": [],
      "mount_file_id": "1Blb2WowyoFloGOiZ2m5FzwMgSLtfhrDq",
      "authorship_tag": "ABX9TyPxNTT8DX9xxrNRSx8u0/sF",
      "include_colab_link": true
    },
    "kernelspec": {
      "name": "python3",
      "display_name": "Python 3"
    },
    "language_info": {
      "name": "python"
    }
  },
  "cells": [
    {
      "cell_type": "markdown",
      "metadata": {
        "id": "view-in-github",
        "colab_type": "text"
      },
      "source": [
        "<a href=\"https://colab.research.google.com/github/ayeshakhalid17/real-vs-fake/blob/main/Anvil_Real_vs_Fake.ipynb\" target=\"_parent\"><img src=\"https://colab.research.google.com/assets/colab-badge.svg\" alt=\"Open In Colab\"/></a>"
      ]
    },
    {
      "cell_type": "code",
      "source": [
        "!pip install anvil-uplink\n",
        "import anvil.server\n",
        "anvil.server.connect(\"DZT4I7EPLPL2Z3DX6VA7QGQZ-XC3V7MRM3ZY73NP2\")"
      ],
      "metadata": {
        "colab": {
          "base_uri": "https://localhost:8080/",
          "height": 451
        },
        "id": "GAUTrWspEz99",
        "outputId": "855343a8-b9a4-4b34-e3c0-f1501ec4e5ce"
      },
      "execution_count": null,
      "outputs": [
        {
          "output_type": "stream",
          "name": "stdout",
          "text": [
            "Collecting anvil-uplink\n",
            "  Downloading anvil_uplink-0.3.41-py2.py3-none-any.whl (64 kB)\n",
            "\u001b[?25l\r\u001b[K     |█████                           | 10 kB 18.9 MB/s eta 0:00:01\r\u001b[K     |██████████▏                     | 20 kB 11.6 MB/s eta 0:00:01\r\u001b[K     |███████████████▎                | 30 kB 8.3 MB/s eta 0:00:01\r\u001b[K     |████████████████████▎           | 40 kB 8.6 MB/s eta 0:00:01\r\u001b[K     |█████████████████████████▍      | 51 kB 5.5 MB/s eta 0:00:01\r\u001b[K     |██████████████████████████████▌ | 61 kB 5.5 MB/s eta 0:00:01\r\u001b[K     |████████████████████████████████| 64 kB 1.7 MB/s \n",
            "\u001b[?25hCollecting ws4py\n",
            "  Downloading ws4py-0.5.1.tar.gz (51 kB)\n",
            "\u001b[?25l\r\u001b[K     |██████▍                         | 10 kB 24.2 MB/s eta 0:00:01\r\u001b[K     |████████████▊                   | 20 kB 33.1 MB/s eta 0:00:01\r\u001b[K     |███████████████████▏            | 30 kB 42.7 MB/s eta 0:00:01\r\u001b[K     |█████████████████████████▌      | 40 kB 49.2 MB/s eta 0:00:01\r\u001b[K     |███████████████████████████████▉| 51 kB 50.5 MB/s eta 0:00:01\r\u001b[K     |████████████████████████████████| 51 kB 163 kB/s \n",
            "\u001b[?25hRequirement already satisfied: future in /usr/local/lib/python3.7/dist-packages (from anvil-uplink) (0.16.0)\n",
            "Requirement already satisfied: six in /usr/local/lib/python3.7/dist-packages (from anvil-uplink) (1.15.0)\n",
            "Collecting argparse\n",
            "  Downloading argparse-1.4.0-py2.py3-none-any.whl (23 kB)\n",
            "Building wheels for collected packages: ws4py\n",
            "  Building wheel for ws4py (setup.py) ... \u001b[?25l\u001b[?25hdone\n",
            "  Created wheel for ws4py: filename=ws4py-0.5.1-py3-none-any.whl size=45229 sha256=d5a5d41ab537f29536fdfd0946e32f98160be3b40bf7c0769a44889e28394875\n",
            "  Stored in directory: /root/.cache/pip/wheels/29/ea/7d/3410aa0aa0e4402ead9a7a97ab2214804887e0f5c2b76f0c96\n",
            "Successfully built ws4py\n",
            "Installing collected packages: ws4py, argparse, anvil-uplink\n",
            "Successfully installed anvil-uplink-0.3.41 argparse-1.4.0 ws4py-0.5.1\n"
          ]
        },
        {
          "output_type": "display_data",
          "data": {
            "application/vnd.colab-display-data+json": {
              "pip_warning": {
                "packages": [
                  "argparse",
                  "google"
                ]
              }
            }
          },
          "metadata": {}
        },
        {
          "output_type": "stream",
          "name": "stdout",
          "text": [
            "Connecting to wss://anvil.works/uplink\n",
            "Anvil websocket open\n",
            "Connected to \"Default environment\" as SERVER\n"
          ]
        }
      ]
    },
    {
      "cell_type": "code",
      "source": [
        "from fastai.vision import *"
      ],
      "metadata": {
        "id": "vLh2KkXq196n"
      },
      "execution_count": null,
      "outputs": []
    },
    {
      "cell_type": "code",
      "source": [
        "from fastai.vision.image import open_image\n",
        "path=Path('/content/drive/MyDrive/')\n",
        "learn=load_learner(path)\n",
        "import anvil.media\n",
        "import numpy as np\n",
        "@anvil.server.callable\n",
        "def classify(file):\n",
        "  with anvil.media.TempFile(file) as filename:\n",
        "      img = open_image(filename)\n",
        "  prediction = learn.predict(img)\n",
        "  return str(prediction[0])"
      ],
      "metadata": {
        "id": "apYQkyFr96Wu"
      },
      "execution_count": null,
      "outputs": []
    },
    {
      "cell_type": "code",
      "source": [
        ""
      ],
      "metadata": {
        "id": "tY11K5acEmIk"
      },
      "execution_count": null,
      "outputs": []
    }
  ]
}