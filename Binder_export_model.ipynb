{
  "nbformat": 4,
  "nbformat_minor": 0,
  "metadata": {
    "colab": {
      "name": "Binder export model.ipynb",
      "provenance": [],
      "collapsed_sections": []
    },
    "kernelspec": {
      "name": "python3",
      "display_name": "Python 3"
    },
    "language_info": {
      "name": "python"
    }
  },
  "cells": [
    {
      "cell_type": "code",
      "source": [
        "#import fastai.vision.all and vision.widgets to create widgets\n",
        "from fastai.vision import *\n",
        "#Make the two text comments below a markdown in your notebook\n",
        "#Malaria Parasite Species Classifier\n",
        "#You need to know the species of malaria for effective treatment? #Then upload an image of malaria parasite.\n",
        "#declare path and load our export.pkl file\n",
        "path = Path('/content/drive/MyDrive/')\n",
        "learn_inf = load_learner(path)\n",
        "#declare a button,output,label widget\n",
        "btn_upload = widgets.FileUpload()\n",
        "out_pl = widgets.Output()\n",
        "lbl_pred = widgets.Label()\n",
        "#define an on_data_change function which execute when an image is #uploaded.It gets the image uploaded,display the image,make a #prediction of the image and output prediction, probability of #predictions\n",
        "def on_data_change(change):    \n",
        "    lbl_pred.value = ''     \n",
        "    img = PILImage.create(btn_upload.data[-1])     \n",
        "    out_pl.clear_output()     \n",
        "    with out_pl: display(img.to_thumb(128,128))     \n",
        "    pred,pred_idx,probs = learn_inf.predict(img)    \n",
        "    lbl_pred.value = f'Prediction: {pred}; Probability:{probs[pred_idx]:.04f}'\n",
        "#button to click to upload image\n",
        "btn_upload.observe(on_data_change, names=['data'])\n",
        "#display label,btn_upload,out_pl,lbl_pred vertically\n",
        "display([widgets.Label('Select an Image of Malaria Parasite!'), btn_upload, out_pl, lbl_pred])"
      ],
      "metadata": {
        "colab": {
          "base_uri": "https://localhost:8080/",
          "height": 87
        },
        "id": "8agicKWkZc6H",
        "outputId": "a07f3792-5a43-438d-d986-fb9d31723ce1"
      },
      "execution_count": 30,
      "outputs": [
        {
          "output_type": "display_data",
          "data": {
            "text/plain": [
              "[Label(value='Select an Image of Malaria Parasite!'),\n",
              " FileUpload(value={}, description='Upload'),\n",
              " Output(),\n",
              " Label(value='')]"
            ]
          },
          "metadata": {}
        }
      ]
    }
  ]
}